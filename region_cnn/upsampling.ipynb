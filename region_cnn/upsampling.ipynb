{
 "cells": [
  {
   "cell_type": "code",
   "execution_count": 4,
   "id": "2f576e1e",
   "metadata": {},
   "outputs": [],
   "source": [
    "import os\n",
    "import random\n",
    "import shutil"
   ]
  },
  {
   "cell_type": "code",
   "execution_count": 7,
   "id": "63d5b40e",
   "metadata": {},
   "outputs": [],
   "source": [
    "def upsample(min_image_name_id, numimages, path_to_upsample_folder, newfilename): # run function repeatedly if numimages > len(listimages)\n",
    "    listimages = os.listdir(path_to_upsample_folder)\n",
    "    random.shuffle(listimages)\n",
    "    duplist = []\n",
    "    for image_name_idx in range(numimages):\n",
    "        duplist.append(listimages[image_name_idx])\n",
    "        if(image_name_idx == len(listimages)-1):\n",
    "            break\n",
    "        shutil.copy(path_to_upsample_folder + \"\\\\\" + duplist[image_name_idx], path_to_upsample_folder + \"\\\\\" + newfilename + str(image_name_idx + min_image_name_id + 1) + \".png\")"
   ]
  },
  {
   "cell_type": "code",
   "execution_count": 13,
   "id": "435fd371",
   "metadata": {},
   "outputs": [],
   "source": [
    "folderpath = \"val\\\\clot\"\n",
    "upsample(163, 6, folderpath, \"clot\")"
   ]
  },
  {
   "cell_type": "code",
   "execution_count": null,
   "id": "5d96aadc",
   "metadata": {},
   "outputs": [],
   "source": []
  }
 ],
 "metadata": {
  "kernelspec": {
   "display_name": "Python 3 (ipykernel)",
   "language": "python",
   "name": "python3"
  },
  "language_info": {
   "codemirror_mode": {
    "name": "ipython",
    "version": 3
   },
   "file_extension": ".py",
   "mimetype": "text/x-python",
   "name": "python",
   "nbconvert_exporter": "python",
   "pygments_lexer": "ipython3",
   "version": "3.9.12"
  }
 },
 "nbformat": 4,
 "nbformat_minor": 5
}
