{
 "cells": [
  {
   "cell_type": "code",
   "execution_count": 3,
   "id": "a7f9d867",
   "metadata": {},
   "outputs": [],
   "source": [
    "import os\n",
    "import glob"
   ]
  },
  {
   "cell_type": "code",
   "execution_count": 15,
   "id": "c06dda02",
   "metadata": {},
   "outputs": [],
   "source": [
    "imagelist = glob.glob(\"hema_seg_regions\\\\*\\\\*\\\\*.png\")\n",
    "for image_path_idx in range(len(imagelist)):\n",
    "    if(\"blood\" in imagelist[image_path_idx]):\n",
    "        os.rename(imagelist[image_path_idx], \"unsplit_data\\\\\" + \"blood\" + str(image_path_idx) + \".png\")\n",
    "    elif(\"adequate\" in imagelist[image_path_idx]):\n",
    "        os.rename(imagelist[image_path_idx], \"unsplit_data\\\\\" + \"adequate\" + str(image_path_idx) + \".png\")\n",
    "    elif(\"clot\" in imagelist[image_path_idx]):\n",
    "        os.rename(imagelist[image_path_idx], \"unsplit_data\\\\\" + \"clot\" + str(image_path_idx) + \".png\")"
   ]
  },
  {
   "cell_type": "code",
   "execution_count": null,
   "id": "92886ff1",
   "metadata": {},
   "outputs": [],
   "source": []
  }
 ],
 "metadata": {
  "kernelspec": {
   "display_name": "Python 3 (ipykernel)",
   "language": "python",
   "name": "python3"
  },
  "language_info": {
   "codemirror_mode": {
    "name": "ipython",
    "version": 3
   },
   "file_extension": ".py",
   "mimetype": "text/x-python",
   "name": "python",
   "nbconvert_exporter": "python",
   "pygments_lexer": "ipython3",
   "version": "3.9.12"
  }
 },
 "nbformat": 4,
 "nbformat_minor": 5
}
