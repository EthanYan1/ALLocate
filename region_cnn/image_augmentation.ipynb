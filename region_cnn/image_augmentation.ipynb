{
 "cells": [
  {
   "cell_type": "markdown",
   "id": "e72c682f",
   "metadata": {
    "pycharm": {
     "name": "#%% md\n"
    }
   },
   "source": [
    "### Explore the data set"
   ]
  },
  {
   "cell_type": "code",
   "execution_count": 1,
   "id": "2b10b68b",
   "metadata": {
    "pycharm": {
     "name": "#%%\n"
    }
   },
   "outputs": [],
   "source": [
    "import os\n",
    "import cv2\n",
    "import albumentations "
   ]
  },
  {
   "cell_type": "code",
   "execution_count": 2,
   "id": "57b889b5",
   "metadata": {
    "pycharm": {
     "name": "#%%\n"
    }
   },
   "outputs": [],
   "source": [
    "transform = albumentations.Compose([\n",
    "    albumentations.ShiftScaleRotate(p = 0.8),\n",
    "    albumentations.HorizontalFlip(p=0.5),\n",
    "    albumentations.VerticalFlip(p=0.5),\n",
    "    albumentations.Affine(shear=(-10,10), p = 0.3),\n",
    "    albumentations.RandomBrightnessContrast(p=0.2)\n",
    "])"
   ]
  },
  {
   "cell_type": "code",
   "execution_count": 6,
   "id": "e38d5716",
   "metadata": {
    "pycharm": {
     "name": "#%%\n"
    }
   },
   "outputs": [],
   "source": [
    "img_dir = \"val\\\\clot\"\n",
    "img_list = os.listdir(img_dir) \n",
    "identifier = 29 # so that i dont rewrite original files, last original file was called adequate204.png\n",
    "#print(img_list)\n",
    "for img_idx in img_list:\n",
    "    img_array = cv2.imread(img_dir + \"\\\\\" + img_idx) #read image as array\n",
    "    for aug_operation in range(5):\n",
    "        transformed_img = transform(image=img_array)[\"image\"] #augmentation\n",
    "        cv2.imwrite(img_dir + \"\\\\\" + \"clot\" + str(identifier) + \".png\", transformed_img) # saving/renaming\n",
    "        identifier += 1 # incrementing identifier to prevent overwrite"
   ]
  },
  {
   "cell_type": "code",
   "execution_count": null,
   "id": "0c6a426f",
   "metadata": {
    "pycharm": {
     "name": "#%%\n"
    }
   },
   "outputs": [],
   "source": []
  }
 ],
 "metadata": {
  "kernelspec": {
   "display_name": "Python 3 (ipykernel)",
   "language": "python",
   "name": "python3"
  },
  "language_info": {
   "codemirror_mode": {
    "name": "ipython",
    "version": 3
   },
   "file_extension": ".py",
   "mimetype": "text/x-python",
   "name": "python",
   "nbconvert_exporter": "python",
   "pygments_lexer": "ipython3",
   "version": "3.9.12"
  }
 },
 "nbformat": 4,
 "nbformat_minor": 5
}
