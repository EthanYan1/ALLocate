{
 "cells": [
  {
   "cell_type": "code",
   "execution_count": 1,
   "id": "abe5f803",
   "metadata": {},
   "outputs": [],
   "source": [
    "import os"
   ]
  },
  {
   "cell_type": "code",
   "execution_count": 2,
   "id": "528c0369",
   "metadata": {},
   "outputs": [],
   "source": [
    "img_dir = \"C:/Users/ethan/Downloads/yolov8_train_typical\" # for train folder\n",
    "list_imgs = os.listdir(img_dir)\n",
    "numimages = len(list_imgs)\n",
    "cur_idx = 57\n",
    "for img_idx in range(1, numimages+1):\n",
    "    #os.rename(img_dir + \"\\\\\" + list_imgs[img_idx-1], \"train_reordered\\\\clot\\\\clot\" + str(img_idx) + \".png\")\n",
    "    if(\"img\" not in list_imgs[img_idx-1]):\n",
    "        os.rename(img_dir + \"/\" + list_imgs[img_idx-1], img_dir + \"/\" + \"img\" + str(cur_idx) + \".png\")\n",
    "        cur_idx += 1"
   ]
  },
  {
   "cell_type": "code",
   "execution_count": 3,
   "id": "3b0c8834",
   "metadata": {},
   "outputs": [],
   "source": [
    "img_dir2 = \"val\" # for val folder\n",
    "list_imgs2 = os.listdir(img_dir2)\n",
    "numimages2 = len(list_imgs2)\n",
    "adequatecount = 1\n",
    "bloodcount = 1\n",
    "clotcount = 1\n",
    "\n",
    "for img_idx2 in range(numimages2):\n",
    "    if(\"adequate\" in list_imgs2[img_idx2]):\n",
    "        os.rename(img_dir2 + \"\\\\\" + list_imgs2[img_idx2], \"val_reordered\\\\adequate\" + str(adequatecount) + \".png\")\n",
    "        adequatecount += 1\n",
    "    elif(\"blood\" in list_imgs2[img_idx2]):\n",
    "        os.rename(img_dir2 + \"\\\\\" + list_imgs2[img_idx2], \"val_reordered\\\\blood\" + str(bloodcount) + \".png\")\n",
    "        bloodcount += 1\n",
    "    elif(\"clot\" in list_imgs2[img_idx2]):\n",
    "        os.rename(img_dir2 + \"\\\\\" + list_imgs2[img_idx2], \"val_reordered\\\\clot\" + str(clotcount) + \".png\")\n",
    "        clotcount += 1"
   ]
  },
  {
   "cell_type": "code",
   "execution_count": 4,
   "id": "8b7d2b42",
   "metadata": {},
   "outputs": [],
   "source": [
    "img_dir3 = \"test\" # for test folder\n",
    "list_imgs3 = os.listdir(img_dir3)\n",
    "numimages3 = len(list_imgs3)\n",
    "adequatecount2 = 1\n",
    "bloodcount2 = 1\n",
    "clotcount2 = 1\n",
    "\n",
    "for img_idx3 in range(numimages3):\n",
    "    if(\"adequate\" in list_imgs3[img_idx3]):\n",
    "        os.rename(img_dir3 + \"\\\\\" + list_imgs3[img_idx3], \"test_reordered\\\\adequate\" + str(adequatecount2) + \".png\")\n",
    "        adequatecount2 += 1\n",
    "    elif(\"blood\" in list_imgs3[img_idx3]):\n",
    "        os.rename(img_dir3 + \"\\\\\" + list_imgs3[img_idx3], \"test_reordered\\\\blood\" + str(bloodcount2) + \".png\")\n",
    "        bloodcount2 += 1\n",
    "    elif(\"clot\" in list_imgs3[img_idx3]):\n",
    "        os.rename(img_dir3 + \"\\\\\" + list_imgs3[img_idx3], \"test_reordered\\\\clot\" + str(clotcount2) + \".png\")\n",
    "        clotcount2 += 1\n"
   ]
  },
  {
   "cell_type": "code",
   "execution_count": null,
   "id": "23f1f6f9",
   "metadata": {},
   "outputs": [],
   "source": []
  }
 ],
 "metadata": {
  "kernelspec": {
   "display_name": "Python 3 (ipykernel)",
   "language": "python",
   "name": "python3"
  },
  "language_info": {
   "codemirror_mode": {
    "name": "ipython",
    "version": 3
   },
   "file_extension": ".py",
   "mimetype": "text/x-python",
   "name": "python",
   "nbconvert_exporter": "python",
   "pygments_lexer": "ipython3",
   "version": "3.10.11"
  }
 },
 "nbformat": 4,
 "nbformat_minor": 5
}
