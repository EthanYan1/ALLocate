{
 "cells": [
  {
   "cell_type": "code",
   "execution_count": 1,
   "metadata": {},
   "outputs": [],
   "source": [
    "import tensorflow as tf\n",
    "import numpy as np\n",
    "from tensorflow import keras\n",
    "from tensorflow.keras import layers\n",
    "from tensorflow.keras.models import Sequential\n",
    "from sklearn import metrics\n",
    "import os\n",
    "import matplotlib.pyplot as plt\n",
    "import PIL.Image"
   ]
  },
  {
   "cell_type": "code",
   "execution_count": null,
   "metadata": {},
   "outputs": [],
   "source": [
    "model = keras.models.load_model('region_classifier_1.h5')"
   ]
  },
  {
   "cell_type": "code",
   "execution_count": null,
   "metadata": {},
   "outputs": [],
   "source": [
    "class_names = ['adequate', 'blood', 'clot']\n",
    "\n",
    "folder_path = \"all_region_val\"\n",
    "img_height = 1000\n",
    "img_width = 1000\n",
    "\n",
    "img_list = os.listdir(folder_path)\n",
    "\n",
    "\n",
    "y_true = []\n",
    "for img_idx in range(len(img_list)):\n",
    "    img_filename = img_list[img_idx]\n",
    "    if(\"adequate\" in img_filename):\n",
    "        y_true.append([1,0,0])\n",
    "    elif(\"blood\" in img_filename):\n",
    "        y_true.append([0,1,0])\n",
    "    else:\n",
    "        y_true.append([0,0,1])\n",
    "\n",
    "print(y_true)\n",
    "print(len(y_true))"
   ]
  },
  {
   "cell_type": "code",
   "execution_count": null,
   "metadata": {},
   "outputs": [],
   "source": [
    "y_pred = []\n",
    "\n",
    "for cur_img in img_list:\n",
    "    img_path = os.path.join(folder_path, cur_img)\n",
    "    img = tf.keras.utils.load_img(img_path, target_size = (img_height, img_width))\n",
    "\n",
    "    img_array = tf.keras.utils.img_to_array(img)\n",
    "    img_array = tf.expand_dims(img_array, 0)\n",
    "\n",
    "    predictions = model.predict(img_array)\n",
    "    score = tf.nn.softmax(predictions[0])\n",
    "    \n",
    "    conf_values = list(score.numpy())\n",
    "    y_pred.append(conf_values)\n",
    "\n",
    "print(y_pred)"
   ]
  },
  {
   "cell_type": "code",
   "execution_count": null,
   "metadata": {},
   "outputs": [],
   "source": [
    "class_names = [\"Adequate\", \"Blood\", \"Clot\"]\n",
    "y_true_arr = np.array(y_true)\n",
    "y_pred_arr = np.array(y_pred)\n",
    "\n",
    "fpr_list, tpr_list, auc_scores = [], [], []\n",
    "n_classes = y_true_arr.shape[1]\n",
    "\n",
    "for i in range(n_classes):\n",
    "    fpr, tpr, _ = metrics.roc_curve(y_true_arr[:, i], y_pred_arr[:, i])\n",
    "    # print(f\"{i}:\", fpr, tpr)\n",
    "    if i==2:\n",
    "        for j in range(len(fpr)):\n",
    "            print(f\"({fpr[j]}, {tpr[j]})\", end=\", \")\n",
    "    auc = metrics.roc_auc_score(y_true_arr[:, i], y_pred_arr[:, i])\n",
    "    fpr_list.append(fpr)\n",
    "    tpr_list.append(tpr)\n",
    "    auc_scores.append(auc)\n",
    "\n",
    "plt.figure(figsize=(10, 8))\n",
    "# for i in range(n_classes):\n",
    "#     plt.plot(fpr_list[i], tpr_list[i], label=f\"Class {class_names[i]} (AUC = {auc_scores[i]:.2f})\")\n",
    "for i in range(n_classes):\n",
    "    plt.plot(fpr_list[i], tpr_list[i], label=f\"{class_names[i]}\")\n",
    "\n",
    "\n",
    "# Plot formatting\n",
    "plt.plot([0, 1], [0, 1], \"k--\")  # Diagonal line\n",
    "plt.title(\"ROC Curve\")\n",
    "plt.xlabel(\"False Positive Rate\")\n",
    "plt.ylabel(\"True Positive Rate\")\n",
    "plt.legend(loc=\"lower right\")\n",
    "plt.show()"
   ]
  }
 ],
 "metadata": {
  "kernelspec": {
   "display_name": ".venv",
   "language": "python",
   "name": "python3"
  },
  "language_info": {
   "codemirror_mode": {
    "name": "ipython",
    "version": 3
   },
   "file_extension": ".py",
   "mimetype": "text/x-python",
   "name": "python",
   "nbconvert_exporter": "python",
   "pygments_lexer": "ipython3",
   "version": "3.11.9"
  }
 },
 "nbformat": 4,
 "nbformat_minor": 2
}
